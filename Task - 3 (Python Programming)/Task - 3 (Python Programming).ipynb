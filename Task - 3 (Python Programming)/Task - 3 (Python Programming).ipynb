{
 "cells": [
  {
   "cell_type": "code",
   "execution_count": null,
   "metadata": {},
   "outputs": [],
   "source": [
    "# Q.1 Polar Coordinates\n",
    "\n",
    "import cmath\n",
    "\n",
    "c=complex(input().strip())\n",
    "for i in cmath.polar(c):\n",
    "    print(i)\n",
    "# Try in different way\n",
    "print(*cmath.polar(complex(input())), sep='\\n')"
   ]
  },
  {
   "cell_type": "code",
   "execution_count": null,
   "metadata": {},
   "outputs": [],
   "source": [
    "# Q.2 Find Angle MBC\n",
    "import math\n",
    "AB=int(input())\n",
    "BC=int(input())\n",
    "print(round(math.degrees(math.atan(AB/BC))),chr(176),sep=\"\")"
   ]
  },
  {
   "cell_type": "code",
   "execution_count": null,
   "metadata": {},
   "outputs": [],
   "source": [
    "# Q.3 Triangle Quest 2\n",
    "\n",
    "for i in range(1,int(input())+1): #More than 2 lines will result in 0 score. Do not leave a blank line also\n",
    "    print((10**i//9)**2)\n",
    "    "
   ]
  },
  {
   "cell_type": "code",
   "execution_count": null,
   "metadata": {},
   "outputs": [],
   "source": [
    "# Q. 4 Mod Divmod\n",
    "# Enter your code here. Read input from STDIN. Print output to STDOUT\n",
    "\n",
    "a = int(input())\n",
    "b = int(input())\n",
    "print(a//b);\n",
    "print(a%b);\n",
    "print(divmod(a,b));\n"
   ]
  },
  {
   "cell_type": "code",
   "execution_count": null,
   "metadata": {},
   "outputs": [],
   "source": [
    "# Q. 5 Power - Mod Power\n",
    "\n",
    "a=int(input())\n",
    "b=int(input())\n",
    "c=int(input())\n",
    "print (a**b)\n",
    "print ((a**b)%c) # X=pow(a,b,c) print(X)"
   ]
  },
  {
   "cell_type": "code",
   "execution_count": null,
   "metadata": {},
   "outputs": [],
   "source": [
    "# Q. 6 Integers Come In All Sizes\n",
    "a, b, c, d = [int(input()) for i in range(4)]\n",
    "print(a ** b + c ** d)"
   ]
  },
  {
   "cell_type": "code",
   "execution_count": null,
   "metadata": {},
   "outputs": [],
   "source": [
    "# Q. 7 Triangle Quest\n",
    "for i in range(1,int(input())): #More than 2 lines will result in 0 score. Do not leave a blank line also\n",
    "    print(((10**i)//9)*i)"
   ]
  }
 ],
 "metadata": {
  "kernelspec": {
   "display_name": "Python 3",
   "language": "python",
   "name": "python3"
  },
  "language_info": {
   "codemirror_mode": {
    "name": "ipython",
    "version": 3
   },
   "file_extension": ".py",
   "mimetype": "text/x-python",
   "name": "python",
   "nbconvert_exporter": "python",
   "pygments_lexer": "ipython3",
   "version": "3.7.6"
  }
 },
 "nbformat": 4,
 "nbformat_minor": 4
}
